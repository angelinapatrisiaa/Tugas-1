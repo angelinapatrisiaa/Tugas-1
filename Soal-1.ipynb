{
 "cells": [
  {
   "cell_type": "code",
   "execution_count": 22,
   "metadata": {},
   "outputs": [],
   "source": [
    "nama = str(input(\"Nama                 : \"))"
   ]
  },
  {
   "cell_type": "code",
   "execution_count": 23,
   "metadata": {},
   "outputs": [],
   "source": [
    "umur = int(input(\"Umur (dalam angka): \"))"
   ]
  },
  {
   "cell_type": "code",
   "execution_count": 24,
   "metadata": {},
   "outputs": [],
   "source": [
    "tinggi = float(input(\"Tinggi (dalam angka)    : \"))"
   ]
  },
  {
   "cell_type": "code",
   "execution_count": 25,
   "metadata": {},
   "outputs": [
    {
     "name": "stdout",
     "output_type": "stream",
     "text": [
      "Nama saya Angelina Patrisia, umur saya 20, tinggi saya 155.68 cm\n"
     ]
    }
   ],
   "source": [
    "print(\"Nama saya {}, umur saya {}, tinggi saya {:.2f} cm\".format(nama, umur, tinggi))"
   ]
  }
 ],
 "metadata": {
  "kernelspec": {
   "display_name": "Python 3.10.4 64-bit",
   "language": "python",
   "name": "python3"
  },
  "language_info": {
   "codemirror_mode": {
    "name": "ipython",
    "version": 3
   },
   "file_extension": ".py",
   "mimetype": "text/x-python",
   "name": "python",
   "nbconvert_exporter": "python",
   "pygments_lexer": "ipython3",
   "version": "3.10.4"
  },
  "orig_nbformat": 4,
  "vscode": {
   "interpreter": {
    "hash": "91555e203e11ede8496fb03363e909d37d72bb051c20872b508296bfc889c327"
   }
  }
 },
 "nbformat": 4,
 "nbformat_minor": 2
}
