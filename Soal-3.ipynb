{
 "cells": [
  {
   "cell_type": "code",
   "execution_count": 9,
   "metadata": {},
   "outputs": [],
   "source": [
    "nilai_praktik = float(input('Nilai Praktik : '))\n",
    "nilai_teori = float(input('Nilai Teori  : '))"
   ]
  },
  {
   "cell_type": "code",
   "execution_count": 10,
   "metadata": {},
   "outputs": [
    {
     "name": "stdout",
     "output_type": "stream",
     "text": [
      "Anda harus mengulang ujian teori dan praktek.\n"
     ]
    }
   ],
   "source": [
    "if nilai_praktik>= 70 and nilai_teori>=70 :\n",
    "    print(\"Selamat, Anda lulus!\")\n",
    "elif nilai_praktik < 70 and nilai_teori >= 70 :\n",
    "    print(\"Anda harus mengulang ujian praktek.\")\n",
    "elif nilai_praktik >= 70 and nilai_teori < 70 :\n",
    "    print(\"Anda harus mengulang ujian teori.\")\n",
    "else :\n",
    "    print(\"Anda harus mengulang ujian teori dan praktek.\")"
   ]
  }
 ],
 "metadata": {
  "kernelspec": {
   "display_name": "Python 3.10.4 64-bit",
   "language": "python",
   "name": "python3"
  },
  "language_info": {
   "codemirror_mode": {
    "name": "ipython",
    "version": 3
   },
   "file_extension": ".py",
   "mimetype": "text/x-python",
   "name": "python",
   "nbconvert_exporter": "python",
   "pygments_lexer": "ipython3",
   "version": "3.10.4"
  },
  "orig_nbformat": 4,
  "vscode": {
   "interpreter": {
    "hash": "91555e203e11ede8496fb03363e909d37d72bb051c20872b508296bfc889c327"
   }
  }
 },
 "nbformat": 4,
 "nbformat_minor": 2
}
